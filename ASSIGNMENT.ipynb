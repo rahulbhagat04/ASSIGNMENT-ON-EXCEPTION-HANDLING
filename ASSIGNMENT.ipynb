{
  "nbformat": 4,
  "nbformat_minor": 0,
  "metadata": {
    "colab": {
      "provenance": []
    },
    "kernelspec": {
      "name": "python3",
      "display_name": "Python 3"
    },
    "language_info": {
      "name": "python"
    }
  },
  "cells": [
    {
      "cell_type": "markdown",
      "source": [
        "# **Q1. What is an Exception in python? Write the difference between Exceptions and Syntax errors.**"
      ],
      "metadata": {
        "id": "-gAyrAooKO1d"
      }
    },
    {
      "cell_type": "markdown",
      "source": [
        "SOLUTION:\n",
        "An Exception in Python is an error that occurs during the execution of a program,\n",
        "disrupting its normal flow. Exceptions are typically raised when the program encounters\n",
        "something unexpected, like dividing by zero or trying to access a non-existent file."
      ],
      "metadata": {
        "id": "q6-wmgw9KGEO"
      }
    },
    {
      "cell_type": "markdown",
      "source": [
        "Difference between Exceptions and Syntax Errors:\n",
        "\n",
        "Exceptions: Occur during runtime, after the code has been successfully parsed.\n",
        "\n",
        "Example: ZeroDivisionError, FileNotFoundError.\n",
        "\n",
        "Syntax Errors: Occur when Python cannot parse your code due to incorrect syntax. These errors are caught before the program runs.\n",
        "\n",
        "Example: missing colons, or unmatched parentheses."
      ],
      "metadata": {
        "id": "M0KhuLyXKAEI"
      }
    },
    {
      "cell_type": "code",
      "source": [],
      "metadata": {
        "id": "ZOkJocymL8z-"
      },
      "execution_count": null,
      "outputs": []
    },
    {
      "cell_type": "markdown",
      "source": [
        "# **Q2. What happens when an exception is not handled? Explain with an example.**"
      ],
      "metadata": {
        "id": "zABXZm8jKx92"
      }
    },
    {
      "cell_type": "markdown",
      "source": [
        "SOLUTION:\n",
        "When an exception is not handled in Python, it leads to a program crash. The Python interpreter stops executing the current block of code and displays a traceback, which shows the error type, the line number where it occurred, and the call stack at that moment."
      ],
      "metadata": {
        "id": "hhYVm_IuKz19"
      }
    },
    {
      "cell_type": "code",
      "source": [
        "def divide(a, b):\n",
        "    return a / b\n",
        "\n",
        "# Calling the function with 0 as the denominator\n",
        "result = divide(10, 0)\n",
        "print(result)"
      ],
      "metadata": {
        "colab": {
          "base_uri": "https://localhost:8080/",
          "height": 315
        },
        "id": "UvoZiYuqK-r2",
        "outputId": "0281be50-5f35-49c8-cc09-57ecc0a9de6b"
      },
      "execution_count": 2,
      "outputs": [
        {
          "output_type": "error",
          "ename": "ZeroDivisionError",
          "evalue": "division by zero",
          "traceback": [
            "\u001b[0;31m---------------------------------------------------------------------------\u001b[0m",
            "\u001b[0;31mZeroDivisionError\u001b[0m                         Traceback (most recent call last)",
            "\u001b[0;32m<ipython-input-2-6787ab39fbba>\u001b[0m in \u001b[0;36m<cell line: 5>\u001b[0;34m()\u001b[0m\n\u001b[1;32m      3\u001b[0m \u001b[0;34m\u001b[0m\u001b[0m\n\u001b[1;32m      4\u001b[0m \u001b[0;31m# Calling the function with 0 as the denominator\u001b[0m\u001b[0;34m\u001b[0m\u001b[0;34m\u001b[0m\u001b[0m\n\u001b[0;32m----> 5\u001b[0;31m \u001b[0mresult\u001b[0m \u001b[0;34m=\u001b[0m \u001b[0mdivide\u001b[0m\u001b[0;34m(\u001b[0m\u001b[0;36m10\u001b[0m\u001b[0;34m,\u001b[0m \u001b[0;36m0\u001b[0m\u001b[0;34m)\u001b[0m\u001b[0;34m\u001b[0m\u001b[0;34m\u001b[0m\u001b[0m\n\u001b[0m\u001b[1;32m      6\u001b[0m \u001b[0mprint\u001b[0m\u001b[0;34m(\u001b[0m\u001b[0mresult\u001b[0m\u001b[0;34m)\u001b[0m\u001b[0;34m\u001b[0m\u001b[0;34m\u001b[0m\u001b[0m\n",
            "\u001b[0;32m<ipython-input-2-6787ab39fbba>\u001b[0m in \u001b[0;36mdivide\u001b[0;34m(a, b)\u001b[0m\n\u001b[1;32m      1\u001b[0m \u001b[0;32mdef\u001b[0m \u001b[0mdivide\u001b[0m\u001b[0;34m(\u001b[0m\u001b[0ma\u001b[0m\u001b[0;34m,\u001b[0m \u001b[0mb\u001b[0m\u001b[0;34m)\u001b[0m\u001b[0;34m:\u001b[0m\u001b[0;34m\u001b[0m\u001b[0;34m\u001b[0m\u001b[0m\n\u001b[0;32m----> 2\u001b[0;31m     \u001b[0;32mreturn\u001b[0m \u001b[0ma\u001b[0m \u001b[0;34m/\u001b[0m \u001b[0mb\u001b[0m\u001b[0;34m\u001b[0m\u001b[0;34m\u001b[0m\u001b[0m\n\u001b[0m\u001b[1;32m      3\u001b[0m \u001b[0;34m\u001b[0m\u001b[0m\n\u001b[1;32m      4\u001b[0m \u001b[0;31m# Calling the function with 0 as the denominator\u001b[0m\u001b[0;34m\u001b[0m\u001b[0;34m\u001b[0m\u001b[0m\n\u001b[1;32m      5\u001b[0m \u001b[0mresult\u001b[0m \u001b[0;34m=\u001b[0m \u001b[0mdivide\u001b[0m\u001b[0;34m(\u001b[0m\u001b[0;36m10\u001b[0m\u001b[0;34m,\u001b[0m \u001b[0;36m0\u001b[0m\u001b[0;34m)\u001b[0m\u001b[0;34m\u001b[0m\u001b[0;34m\u001b[0m\u001b[0m\n",
            "\u001b[0;31mZeroDivisionError\u001b[0m: division by zero"
          ]
        }
      ]
    },
    {
      "cell_type": "markdown",
      "source": [
        "The function divide attempts to divide by zero, which raises a ZeroDivisionError.\n",
        "Since the exception is not handled (i.e., there are no try and except blocks), the program terminates, and Python prints a traceback, indicating where the error occurred."
      ],
      "metadata": {
        "id": "hYidyufrKzzm"
      }
    },
    {
      "cell_type": "code",
      "source": [],
      "metadata": {
        "id": "UU0tt2eRLXSN"
      },
      "execution_count": null,
      "outputs": []
    },
    {
      "cell_type": "markdown",
      "source": [
        "# **Q3. Which Python statements are used to catch and handle exceptions? Explain with an example.**"
      ],
      "metadata": {
        "id": "1IRkc0QTLbmE"
      }
    },
    {
      "cell_type": "markdown",
      "source": [
        "SOLUTION:\n",
        "       In Python, the try and except statements are used to catch and handle exceptions. The code that might raise an exception is placed inside the try block, and the code that handles the exception is placed in the except block."
      ],
      "metadata": {
        "id": "u-42x4bUKzwl"
      }
    },
    {
      "cell_type": "code",
      "source": [
        "def divide(a, b):\n",
        "    try:\n",
        "        result = a / b\n",
        "        print(f\"The result is {result}\")\n",
        "    except ZeroDivisionError:\n",
        "        print(\"Error: Cannot divide by zero.\")\n",
        "    except TypeError:\n",
        "        print(\"Error: Invalid input type. Please provide numbers.\")\n",
        "    except Exception as e:\n",
        "        print(f\"An unexpected error occurred: {e}\")\n",
        "\n",
        "divide(10, 2)   # This will work and print the result\n",
        "divide(10, 0)   # This will handle ZeroDivisionError\n",
        "divide(10, 'a') # This will handle TypeError"
      ],
      "metadata": {
        "colab": {
          "base_uri": "https://localhost:8080/"
        },
        "id": "z9LbdMjsKfo6",
        "outputId": "09d7f75e-6d13-4c8f-c13f-c621957ac030"
      },
      "execution_count": 3,
      "outputs": [
        {
          "output_type": "stream",
          "name": "stdout",
          "text": [
            "The result is 5.0\n",
            "Error: Cannot divide by zero.\n",
            "Error: Invalid input type. Please provide numbers.\n"
          ]
        }
      ]
    },
    {
      "cell_type": "markdown",
      "source": [
        "try block: Contains code that may raise exceptions (dividing numbers).\n",
        "\n",
        "except blocks: Handle specific exceptions:\n",
        "\n",
        "The first except ZeroDivisionError handles the case where the denominator is zero.\n",
        "\n",
        "The second except TypeError handles cases where the input types are incorrect ( dividing a number by a string).\n",
        "\n",
        "The last except Exception as e is a catch-all for any other unexpected exceptions, allowing you to access the error message."
      ],
      "metadata": {
        "id": "ltOO4XbYLr1e"
      }
    },
    {
      "cell_type": "code",
      "source": [],
      "metadata": {
        "id": "HPB9m-orLmj1"
      },
      "execution_count": null,
      "outputs": []
    },
    {
      "cell_type": "markdown",
      "source": [
        "## **Q4. Explain with an example:**\n",
        "## **1. try and else**\n",
        "## **2. finall**\n",
        "## **3. raise**"
      ],
      "metadata": {
        "id": "I0IYjhJWMaJ8"
      }
    },
    {
      "cell_type": "markdown",
      "source": [
        "**SOLUTION:**\n",
        "\n",
        "the try, else, finally, and raise statements work together to handle exceptions and manage control flow in programs.\n",
        "\n",
        "**1. try and else**\n",
        "\n",
        "The try block is used to catch exceptions, while the else block runs if the code in the try block does not raise an exception.\n",
        "\n",
        "**2. finally**\n",
        "\n",
        "The finally block is executed no matter what—whether an exception occurred or not. This is useful for cleanup actions (like closing files or releasing resources).\n",
        "\n",
        "**3. raise**\n",
        "\n",
        "The raise statement is used to explicitly trigger an exception. You can raise a specific exception or a generic one with a custom message."
      ],
      "metadata": {
        "id": "tE8lEYngMuok"
      }
    },
    {
      "cell_type": "code",
      "source": [
        "def read_file(filename):\n",
        "    try:\n",
        "        file = open(filename, 'r')\n",
        "        content = file.read()\n",
        "    except FileNotFoundError:\n",
        "        print(\"Error: File not found.\")\n",
        "    finally:\n",
        "        if 'file' in locals():\n",
        "            file.close()\n",
        "            print(\"File closed.\")\n",
        "\n",
        "# Example usage\n",
        "read_file(\"existing_file.txt\")  # Assume this file exists\n",
        "read_file(\"non_existent_file.txt\")  # This will handle FileNotFoundError"
      ],
      "metadata": {
        "colab": {
          "base_uri": "https://localhost:8080/"
        },
        "id": "CJtQn1waMsno",
        "outputId": "74ea2f34-54c2-4fe1-8d74-fb250dc1a6c3"
      },
      "execution_count": 4,
      "outputs": [
        {
          "output_type": "stream",
          "name": "stdout",
          "text": [
            "Error: File not found.\n",
            "Error: File not found.\n"
          ]
        }
      ]
    },
    {
      "cell_type": "code",
      "source": [
        "def check_positive(number):\n",
        "    if number < 0:\n",
        "        raise ValueError(\"Error: The number must be positive.\")\n",
        "\n",
        "try:\n",
        "    check_positive(-5)\n",
        "except ValueError as e:\n",
        "    print(e)"
      ],
      "metadata": {
        "colab": {
          "base_uri": "https://localhost:8080/"
        },
        "id": "HeXcTXEQNWgz",
        "outputId": "f26a8406-c7b3-40ee-ce04-631e3a8b98e2"
      },
      "execution_count": 5,
      "outputs": [
        {
          "output_type": "stream",
          "name": "stdout",
          "text": [
            "Error: The number must be positive.\n"
          ]
        }
      ]
    },
    {
      "cell_type": "code",
      "source": [],
      "metadata": {
        "id": "-Lkbxd7uNm26"
      },
      "execution_count": null,
      "outputs": []
    },
    {
      "cell_type": "markdown",
      "source": [
        "## **Q5. What are Custom Exceptions in python? Why do we need Custom Exceptions? Explain with an example.**"
      ],
      "metadata": {
        "id": "mik97Wo9OAgT"
      }
    },
    {
      "cell_type": "markdown",
      "source": [
        "**SOLUTION:**\n",
        "\n",
        "Custom Exceptions in Python are user-defined exceptions that allow you to create specific error types for your applications. They enable you to handle particular error conditions more effectively and clearly, making your code easier to read and maintain.\n",
        "\n",
        "**Why Do We Need Custom Exceptions?**\n",
        "\n",
        "Clarity: Custom exceptions can convey specific error conditions relevant to your application, making it easier to understand what went wrong.\n",
        "\n",
        "Granularity: They allow you to differentiate between different types of errors that may occur, leading to more precise error handling.\n",
        "\n",
        "Maintainability: Custom exceptions can simplify debugging and make it easier to modify or extend error handling in the future."
      ],
      "metadata": {
        "id": "n4tJMKt7OJyy"
      }
    },
    {
      "cell_type": "code",
      "source": [
        "# Define a custom exception\n",
        "class InvalidAgeError(Exception):\n",
        "    \"\"\"Exception raised for errors in the input age.\"\"\"\n",
        "    def __init__(self, age, message=\"Age must be a positive integer.\"):\n",
        "        self.age = age\n",
        "        self.message = message\n",
        "        super().__init__(self.message)\n",
        "\n",
        "# Function that checks the age\n",
        "def check_age(age):\n",
        "    if age < 0:\n",
        "        raise InvalidAgeError(age)  # Raise the custom exception\n",
        "\n",
        "# Example usage\n",
        "try:\n",
        "    check_age(-5)\n",
        "except InvalidAgeError as e:\n",
        "    print(f\"InvalidAgeError: {e.message} Given age: {e.age}\")"
      ],
      "metadata": {
        "colab": {
          "base_uri": "https://localhost:8080/"
        },
        "id": "zPA9fTBaODLr",
        "outputId": "4b0ade63-99ef-4c81-afbe-179ed10374f1"
      },
      "execution_count": 6,
      "outputs": [
        {
          "output_type": "stream",
          "name": "stdout",
          "text": [
            "InvalidAgeError: Age must be a positive integer. Given age: -5\n"
          ]
        }
      ]
    },
    {
      "cell_type": "markdown",
      "source": [
        "**Defining the Custom Exception:**\n",
        "\n",
        "The InvalidAgeError class inherits from the built-in Exception class. It has an __init__ method that takes additional parameters (in this case, the age value and a custom message).\n",
        "\n",
        "**Raising the Custom Exception:**\n",
        "\n",
        "In the check_age function, the custom exception is raised if the provided age is negative.\n",
        "\n",
        "**Handling the Custom Exception:**\n",
        "\n",
        "In the try block, the function check_age is called. If it raises an InvalidAgeError, it is caught in the except block, where you can handle it specifically."
      ],
      "metadata": {
        "id": "DWE6FWoNOcni"
      }
    },
    {
      "cell_type": "code",
      "source": [],
      "metadata": {
        "id": "u5N-zPouOcNi"
      },
      "execution_count": null,
      "outputs": []
    },
    {
      "cell_type": "markdown",
      "source": [
        "## **Q6. Create a custom exception class. Use this class to handle an exception.**"
      ],
      "metadata": {
        "id": "Wy2P8vnvOsrx"
      }
    },
    {
      "cell_type": "code",
      "source": [
        "class NegativeNumberError(Exception):\n",
        "    \"\"\"Exception raised for errors when a negative number is provided.\"\"\"\n",
        "    def __init__(self, number, message=\"Negative numbers are not allowed.\"):\n",
        "        self.number = number\n",
        "        self.message = message\n",
        "        super().__init__(self.message)"
      ],
      "metadata": {
        "id": "RIDX4DubOsbZ"
      },
      "execution_count": 7,
      "outputs": []
    },
    {
      "cell_type": "code",
      "source": [
        "def square_root(number):\n",
        "    if number < 0:\n",
        "        raise NegativeNumberError(number)  # Raise the custom exception\n",
        "    return number ** 0.5  # Return the square root\n",
        "\n",
        "# Example usage\n",
        "try:\n",
        "    result = square_root(-9)\n",
        "except NegativeNumberError as e:\n",
        "    print(f\"NegativeNumberError: {e.message} Given number: {e.number}\")"
      ],
      "metadata": {
        "colab": {
          "base_uri": "https://localhost:8080/"
        },
        "id": "UDoQT2yyOW8B",
        "outputId": "bff0e46b-f8ae-4d36-d06a-41fb8dcc1216"
      },
      "execution_count": 8,
      "outputs": [
        {
          "output_type": "stream",
          "name": "stdout",
          "text": [
            "NegativeNumberError: Negative numbers are not allowed. Given number: -9\n"
          ]
        }
      ]
    },
    {
      "cell_type": "code",
      "source": [],
      "metadata": {
        "id": "7-6SLyTkO9DT"
      },
      "execution_count": null,
      "outputs": []
    }
  ]
}